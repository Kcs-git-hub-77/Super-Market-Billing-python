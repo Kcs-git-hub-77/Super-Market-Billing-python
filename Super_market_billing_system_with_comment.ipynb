{
 "cells": [
  {
   "cell_type": "code",
   "execution_count": 2,
   "id": "f9fcd7ce-7165-4626-9df9-e355487ba3a3",
   "metadata": {},
   "outputs": [],
   "source": [
    "#Supermarket Billing system"
   ]
  },
  {
   "cell_type": "code",
   "execution_count": 2,
   "id": "0e5f1a7e-5d78-4ac7-a691-e368e852e97f",
   "metadata": {},
   "outputs": [],
   "source": [
    "Products = {\"Apples\":40,\"Chips\":25,\"Brocolli\":70,\"Juice\":50,\"Cola\":30}#We have predefined our price data using the dictionary datatype"
   ]
  },
  {
   "cell_type": "code",
   "execution_count": 3,
   "id": "dc7b3758-e832-489a-8d56-98be030f309f",
   "metadata": {},
   "outputs": [
    {
     "name": "stdout",
     "output_type": "stream",
     "text": [
      "--------------- Hi Welcome to D-mart ---------------\n"
     ]
    },
    {
     "name": "stdin",
     "output_type": "stream",
     "text": [
      "Enter your name :  Kashish Chauhan\n",
      "Enter your phone number :  8178516237\n"
     ]
    },
    {
     "name": "stdout",
     "output_type": "stream",
     "text": [
      "--------------- Products list ----------------------\n",
      "                Apples : 40\n",
      "                Chips : 25\n",
      "                Brocolli : 70\n",
      "                Juice : 50\n",
      "                Cola : 30\n"
     ]
    },
    {
     "name": "stdin",
     "output_type": "stream",
     "text": [
      "Enter the product name you wish to buy : Apples\n",
      "Enter the quantity you wish to buy : 78\n",
      "Do you want to add more items?(Yes/No)  yes\n",
      "Enter the product name you wish to buy : cola\n",
      "Enter the quantity you wish to buy : 45\n",
      "Do you want to add more items?(Yes/No)  no\n"
     ]
    },
    {
     "name": "stdout",
     "output_type": "stream",
     "text": [
      "-----------------------------------------------------\n",
      "Customer Name : Kashish Chauhan\n",
      "Phone Number : 8178516237\n",
      "Apples price : 40 X 78.0 =  3120.0\n",
      "Cola price : 30 X 45.0 =  1350.0\n",
      "Total amount : 4470.0\n",
      "Discount applied:  15.0 %\n",
      "-----------------------------------------------------\n",
      "Payable amount:  3799.5\n",
      "-----------------------------------------------------\n",
      "Thank you for shoping with us\n"
     ]
    },
    {
     "name": "stdin",
     "output_type": "stream",
     "text": [
      "Next person?  yes\n",
      "Enter your name :  Chow Nona\n",
      "Enter your phone number :  8745544421\n"
     ]
    },
    {
     "name": "stdout",
     "output_type": "stream",
     "text": [
      "--------------- Products list ----------------------\n",
      "                Apples : 40\n",
      "                Chips : 25\n",
      "                Brocolli : 70\n",
      "                Juice : 50\n",
      "                Cola : 30\n"
     ]
    },
    {
     "name": "stdin",
     "output_type": "stream",
     "text": [
      "Enter the product name you wish to buy : Brocolli\n",
      "Enter the quantity you wish to buy : 500\n",
      "Do you want to add more items?(Yes/No)  no\n"
     ]
    },
    {
     "name": "stdout",
     "output_type": "stream",
     "text": [
      "-----------------------------------------------------\n",
      "Customer Name : Chow Nona\n",
      "Phone Number : 8745544421\n",
      "Brocolli price : 70 X 500.0 =  35000.0\n",
      "Total amount : 35000.0\n",
      "Discount applied:  15.0 %\n",
      "-----------------------------------------------------\n",
      "Payable amount:  29750.0\n",
      "-----------------------------------------------------\n",
      "Thank you for shoping with us\n"
     ]
    },
    {
     "name": "stdin",
     "output_type": "stream",
     "text": [
      "Next person?  no\n"
     ]
    }
   ],
   "source": [
    "print(\"-\"*15,\"Hi Welcome to D-mart\",\"-\"*15)#Done for the purpose of formating\n",
    "while True:#Main Loop\n",
    "    cart = {}#For each shopping session cart is intialized as a empty dictionary\n",
    "    amount = 0#Predefing the initial level of value to be zero for a correct value to appear\n",
    "    name = input(\"Enter your name : \")#Done to seek input comprising of customers name.\n",
    "    contact = input(\"Enter your phone number : \")##Done to seek input comprising of customers contact number\n",
    "    discount = 0#Predefing the initial level of value to be zero for a correct value to appear\n",
    "    \n",
    "    print(\"-\"*15,\"Products list\",\"-\"*22)#Done for the purpose of formating\n",
    "    for i,j in Products.items():\n",
    "        print(\" \"*15,i,\":\",j)# created the for loop to load the item stored in the dictionary data type\n",
    "    \n",
    "    while True:#Commencement of loop within the main loop where the billing information gets posted \n",
    "        p_name = input(\"Enter the product name you wish to buy :\").capitalize()#Seeking the input and Using .capitalize at the end to match the consistency of the desired input\n",
    "        quantity = float(input(\"Enter the quantity you wish to buy :\"))#Float datatype used in the initial to a practical used case since qty can also be in half\n",
    "        val = []#This empty list is later used to store details related to a selected product\n",
    "        val.append(Products[p_name])#Adding product price to the list\n",
    "        val.append(quantity)#Adding quantity purchased\n",
    "        val.append(quantity * Products[p_name])#Adding total cost of the item\n",
    "        cart[p_name] = val#Dictionary stores the purchased product as key and their price as values\n",
    "        amount += Products[p_name] * quantity#Done to ensure that the sum of entries must happen as soon as entries get reccorded via above input\n",
    "        repeat = input(\"Do you want to add more items?(Yes/No) \").capitalize()#Defing the variable to provide a consistent input for subsequent if statement\n",
    "        if repeat == \"No\":#Inputs that trigers this within loop to break and billing to sum up to produce the total invoice value\n",
    "            break\n",
    "    \n",
    "    if amount <= 500:#Using the conditional if statement we have defined the % of discount that must be allowed based on output produced via the internal loop\n",
    "        discount = 0\n",
    "    elif amount <= 1000:\n",
    "        discount = 0.05\n",
    "    elif amount <= 3000:\n",
    "        discount = 0.10\n",
    "    else:\n",
    "        discount = 0.15\n",
    "    \n",
    "    act_amount = amount - (amount*discount) #Done for calculating the final price payable by the customer after adjusted the dicount % returned from the if statement  \n",
    "    print(\"-\"*53)\n",
    "    print(\"Customer Name :\",name)#For layout of bill\n",
    "    print(\"Phone Number :\",contact)#For layout of bill\n",
    "    for i, j in cart.items():#Done for visualising how the calculation may look like in the bill that for this much quantity this shall be the value\n",
    "        print(i,\"price :\",j[0],\"X\",j[1],\"= \",j[2] )\n",
    "    print(\"Total amount :\",amount)\n",
    "    print(\"Discount applied: \",discount*100,\"%\")\n",
    "    print(\"-\"*53)#Done for the purpose of formating\n",
    "    print(\"Payable amount: \",act_amount)#For layout of bill\n",
    "    print(\"-\"*53)#Done for the purpose of formating\n",
    "     \n",
    "    print(\"Thank you for shoping with us\")#Message given at the end for the layout of bill\n",
    "    n_person = input(\"Next person? \").capitalize()#Laying the another condition for billing system to reappear and reoccur for a new customer\n",
    "    if n_person == \"No\":#A predefined output that breaks the billing chain\n",
    "        break#Keyword neccesory for the above input to enact"
   ]
  }
 ],
 "metadata": {
  "kernelspec": {
   "display_name": "Python 3 (ipykernel)",
   "language": "python",
   "name": "python3"
  },
  "language_info": {
   "codemirror_mode": {
    "name": "ipython",
    "version": 3
   },
   "file_extension": ".py",
   "mimetype": "text/x-python",
   "name": "python",
   "nbconvert_exporter": "python",
   "pygments_lexer": "ipython3",
   "version": "3.13.1"
  }
 },
 "nbformat": 4,
 "nbformat_minor": 5
}
